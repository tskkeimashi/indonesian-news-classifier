{
  "nbformat": 4,
  "nbformat_minor": 0,
  "metadata": {
    "colab": {
      "name": "Submission_Klasifikasi Berita",
      "provenance": []
    },
    "kernelspec": {
      "name": "python3",
      "display_name": "Python 3"
    }
  },
  "cells": [
    {
      "cell_type": "code",
      "metadata": {
        "colab": {
          "base_uri": "https://localhost:8080/"
        },
        "id": "LZGfkDcc9x_w",
        "outputId": "6728f335-4a10-448c-ae78-ca0d1283c438"
      },
      "source": [
        "import pandas as pd\n",
        "import pickle\n",
        "\n",
        "datanya = pickle.load(open('training.res', 'rb'))\n",
        "df = pd.DataFrame({'content':datanya[0], 'label':datanya[1]})\n",
        "print(df.shape)\n",
        "print(df.head())"
      ],
      "execution_count": 93,
      "outputs": [
        {
          "output_type": "stream",
          "text": [
            "(6127, 2)\n",
            "                                             content   label\n",
            "0  Liputan6.com, London - Lee Dixon khawatir Arse...    bola\n",
            "1  Liputan6.com, Jakarta - Kasus dugaan penganiay...    news\n",
            "2  Liputan6.com, Jakarta Menanggapi aksi eks peke...  bisnis\n",
            "3  Liputan6.com, Medan - Sebanyak 81 kendaraan 4x...    bola\n",
            "4  Liputan6.com, Jakarta Indonesia akan melawan T...    bola\n"
          ],
          "name": "stdout"
        }
      ]
    },
    {
      "cell_type": "code",
      "metadata": {
        "colab": {
          "base_uri": "https://localhost:8080/"
        },
        "id": "zdg-el4K-9eh",
        "outputId": "30092c3d-b052-414a-c1d7-e319aff25fd6"
      },
      "source": [
        "print(df['label'].value_counts())"
      ],
      "execution_count": 94,
      "outputs": [
        {
          "output_type": "stream",
          "text": [
            "bola        2063\n",
            "news        2017\n",
            "bisnis      1339\n",
            "tekno        578\n",
            "otomotif     130\n",
            "Name: label, dtype: int64\n"
          ],
          "name": "stdout"
        }
      ]
    },
    {
      "cell_type": "code",
      "metadata": {
        "colab": {
          "base_uri": "https://localhost:8080/",
          "height": 350
        },
        "id": "dUM1eO05_Vaf",
        "outputId": "667944a8-5217-4a13-848d-898a9992cbc1"
      },
      "source": [
        "import seaborn as sns\n",
        "\n",
        "sns.countplot(df['label'])"
      ],
      "execution_count": 95,
      "outputs": [
        {
          "output_type": "stream",
          "text": [
            "/usr/local/lib/python3.6/dist-packages/seaborn/_decorators.py:43: FutureWarning: Pass the following variable as a keyword arg: x. From version 0.12, the only valid positional argument will be `data`, and passing other arguments without an explicit keyword will result in an error or misinterpretation.\n",
            "  FutureWarning\n"
          ],
          "name": "stderr"
        },
        {
          "output_type": "execute_result",
          "data": {
            "text/plain": [
              "<matplotlib.axes._subplots.AxesSubplot at 0x7f3ab8ac2c88>"
            ]
          },
          "metadata": {
            "tags": []
          },
          "execution_count": 95
        },
        {
          "output_type": "display_data",
          "data": {
            "image/png": "[encoded data removed]",
            "text/plain": [
              "<Figure size 432x288 with 1 Axes>"
            ]
          },
          "metadata": {
            "tags": [],
            "needs_background": "light"
          }
        }
      ]
    },
    {
      "cell_type": "code",
      "metadata": {
        "colab": {
          "base_uri": "https://localhost:8080/"
        },
        "id": "h68V4l3t_tC_",
        "outputId": "4f80ece0-f8f7-431a-e4ac-8c4be50ae0a8"
      },
      "source": [
        "pip install Sastrawi"
      ],
      "execution_count": 96,
      "outputs": [
        {
          "output_type": "stream",
          "text": [
            "Requirement already satisfied: Sastrawi in /usr/local/lib/python3.6/dist-packages (1.0.1)\n"
          ],
          "name": "stdout"
        }
      ]
    },
    {
      "cell_type": "code",
      "metadata": {
        "id": "NyOE2CJWACfc"
      },
      "source": [
        "import re\n",
        "import nltk\n",
        "from Sastrawi.StopWordRemover.StopWordRemoverFactory import StopWordRemoverFactory\n",
        "\n",
        "\n",
        "space = re.compile('[/(){}\\[\\]\\|@,;]')\n",
        "symbols = re.compile('[^0-9a-z #+_]')\n",
        "\n",
        "stop_factory = StopWordRemoverFactory()\n",
        "more_stopword = ['dengan', 'ia','bahwa','oleh']\n",
        "data = set(stop_factory.get_stop_words()+more_stopword)\n",
        "stopword = stop_factory.create_stop_word_remover()\n",
        "\n",
        "def clean_text(text):\n",
        "  text = text.lower()\n",
        "  text = space.sub(' ', text)\n",
        "  text = symbols.sub(' ', text)\n",
        "  text = text.replace('x', '')\n",
        "  text = ' '.join(word for word in text.split() if word not in data)\n",
        "  return text"
      ],
      "execution_count": 97,
      "outputs": []
    },
    {
      "cell_type": "code",
      "metadata": {
        "id": "MHrZVWfhAT00"
      },
      "source": [
        "df['content']=df['content'].apply(clean_text)"
      ],
      "execution_count": 98,
      "outputs": []
    },
    {
      "cell_type": "code",
      "metadata": {
        "colab": {
          "base_uri": "https://localhost:8080/"
        },
        "id": "ApVcCWZNAYA8",
        "outputId": "7a85de7d-2288-4c72-99fd-86bba024fa7f"
      },
      "source": [
        "print(df['content'][0])"
      ],
      "execution_count": 99,
      "outputs": [
        {
          "output_type": "stream",
          "text": [
            "liputan6 com london lee dion khawatir arsenal tak merekrut denis suarez permanen musim panas pasalnya sejauh suarez menjadi cadangan the gunners suarez dipinjam arsenal barcelona januari lalu the gunners membelinya akhir musim permainannya memuaskan sejauh suarez tak menjadi pilihan utama arsenal manajer unai emery baru memberinya kesempatan bermain selama 85 menit emery mungkin tahu kualitas suarez tahu suarez pemain dibutuhkannya kata dion dilansir evening standard sudut pandang suarez berpikir apa pindah kalau bermain jadi mungkin menolak arsenal katanya menambahkan\n"
          ],
          "name": "stdout"
        }
      ]
    },
    {
      "cell_type": "code",
      "metadata": {
        "colab": {
          "base_uri": "https://localhost:8080/"
        },
        "id": "u80zF6OqAaIB",
        "outputId": "83cbfbaf-a36c-45f3-fccb-7a36a918c51e"
      },
      "source": [
        "kategori = pd.get_dummies(df.label)\n",
        "df = pd.concat([df, kategori], axis=1)\n",
        "df = df.drop(columns=['label'])\n",
        "print(df.head())\n",
        "print(df.shape)"
      ],
      "execution_count": 100,
      "outputs": [
        {
          "output_type": "stream",
          "text": [
            "                                             content  bisnis  ...  otomotif  tekno\n",
            "0  liputan6 com london lee dion khawatir arsenal ...       0  ...         0      0\n",
            "1  liputan6 com jakarta kasus dugaan penganiayaan...       0  ...         0      0\n",
            "2  liputan6 com jakarta menanggapi aksi eks peker...       1  ...         0      0\n",
            "3  liputan6 com medan sebanyak 81 kendaraan 44 74...       0  ...         0      0\n",
            "4  liputan6 com jakarta indonesia melawan thailan...       0  ...         0      0\n",
            "\n",
            "[5 rows x 6 columns]\n",
            "(6127, 6)\n"
          ],
          "name": "stdout"
        }
      ]
    },
    {
      "cell_type": "code",
      "metadata": {
        "colab": {
          "base_uri": "https://localhost:8080/"
        },
        "id": "IZTJMapbAsrR",
        "outputId": "1da27d81-3746-48a6-b395-dd609099b999"
      },
      "source": [
        "g=[]\n",
        "for i in df['content']:\n",
        "  g.append(i)\n",
        "panjangmaks = max([len(s) for s in g])\n",
        "print(panjangmaks) # max length dari padding"
      ],
      "execution_count": 101,
      "outputs": [
        {
          "output_type": "stream",
          "text": [
            "7206\n"
          ],
          "name": "stdout"
        }
      ]
    },
    {
      "cell_type": "code",
      "metadata": {
        "colab": {
          "base_uri": "https://localhost:8080/"
        },
        "id": "kkDx6EeLA5z2",
        "outputId": "f01880f0-f56c-4b4f-c7da-6085c15800a7"
      },
      "source": [
        "from tensorflow.keras.preprocessing.text import Tokenizer\n",
        "\n",
        "tokenizer = Tokenizer(num_words=50000, filters='!\"#$%&()*+,-./:;<=>?@[\\]^_`{|}~', lower=True)\n",
        "tokenizer.fit_on_texts(df['content'].values)\n",
        "word_index = tokenizer.word_index\n",
        "print('token unik %s' % len(word_index))\n",
        "print(df.columns)"
      ],
      "execution_count": 102,
      "outputs": [
        {
          "output_type": "stream",
          "text": [
            "token unik 37704\n",
            "Index(['content', 'bisnis', 'bola', 'news', 'otomotif', 'tekno'], dtype='object')\n"
          ],
          "name": "stdout"
        }
      ]
    },
    {
      "cell_type": "code",
      "metadata": {
        "colab": {
          "base_uri": "https://localhost:8080/"
        },
        "id": "6trvfPP9A9nU",
        "outputId": "e6bae59e-01b4-493e-f616-19c597ff6750"
      },
      "source": [
        "from keras.preprocessing.sequence import pad_sequences\n",
        "\n",
        "x= tokenizer.texts_to_sequences(df['content'].values)\n",
        "x = pad_sequences(x, maxlen = 1000)\n",
        "y = df[['bisnis', 'bola', 'news', 'otomotif', 'tekno']].values\n",
        "print(x.shape)\n",
        "print(y.shape)"
      ],
      "execution_count": 103,
      "outputs": [
        {
          "output_type": "stream",
          "text": [
            "(6127, 1000)\n",
            "(6127, 5)\n"
          ],
          "name": "stdout"
        }
      ]
    },
    {
      "cell_type": "code",
      "metadata": {
        "colab": {
          "base_uri": "https://localhost:8080/",
          "height": 202
        },
        "id": "UEiRhFaNCfxc",
        "outputId": "1d17d95b-6d37-435d-a0e0-7a0e9b431eb6"
      },
      "source": [
        "df.head()"
      ],
      "execution_count": 104,
      "outputs": [
        {
          "output_type": "execute_result",
          "data": {
            "text/html": [
              "<div>\n",
              "<style scoped>\n",
              "    .dataframe tbody tr th:only-of-type {\n",
              "        vertical-align: middle;\n",
              "    }\n",
              "\n",
              "    .dataframe tbody tr th {\n",
              "        vertical-align: top;\n",
              "    }\n",
              "\n",
              "    .dataframe thead th {\n",
              "        text-align: right;\n",
              "    }\n",
              "</style>\n",
              "<table border=\"1\" class=\"dataframe\">\n",
              "  <thead>\n",
              "    <tr style=\"text-align: right;\">\n",
              "      <th></th>\n",
              "      <th>content</th>\n",
              "      <th>bisnis</th>\n",
              "      <th>bola</th>\n",
              "      <th>news</th>\n",
              "      <th>otomotif</th>\n",
              "      <th>tekno</th>\n",
              "    </tr>\n",
              "  </thead>\n",
              "  <tbody>\n",
              "    <tr>\n",
              "      <th>0</th>\n",
              "      <td>liputan6 com london lee dion khawatir arsenal ...</td>\n",
              "      <td>0</td>\n",
              "      <td>1</td>\n",
              "      <td>0</td>\n",
              "      <td>0</td>\n",
              "      <td>0</td>\n",
              "    </tr>\n",
              "    <tr>\n",
              "      <th>1</th>\n",
              "      <td>liputan6 com jakarta kasus dugaan penganiayaan...</td>\n",
              "      <td>0</td>\n",
              "      <td>0</td>\n",
              "      <td>1</td>\n",
              "      <td>0</td>\n",
              "      <td>0</td>\n",
              "    </tr>\n",
              "    <tr>\n",
              "      <th>2</th>\n",
              "      <td>liputan6 com jakarta menanggapi aksi eks peker...</td>\n",
              "      <td>1</td>\n",
              "      <td>0</td>\n",
              "      <td>0</td>\n",
              "      <td>0</td>\n",
              "      <td>0</td>\n",
              "    </tr>\n",
              "    <tr>\n",
              "      <th>3</th>\n",
              "      <td>liputan6 com medan sebanyak 81 kendaraan 44 74...</td>\n",
              "      <td>0</td>\n",
              "      <td>1</td>\n",
              "      <td>0</td>\n",
              "      <td>0</td>\n",
              "      <td>0</td>\n",
              "    </tr>\n",
              "    <tr>\n",
              "      <th>4</th>\n",
              "      <td>liputan6 com jakarta indonesia melawan thailan...</td>\n",
              "      <td>0</td>\n",
              "      <td>1</td>\n",
              "      <td>0</td>\n",
              "      <td>0</td>\n",
              "      <td>0</td>\n",
              "    </tr>\n",
              "  </tbody>\n",
              "</table>\n",
              "</div>"
            ],
            "text/plain": [
              "                                             content  bisnis  ...  otomotif  tekno\n",
              "0  liputan6 com london lee dion khawatir arsenal ...       0  ...         0      0\n",
              "1  liputan6 com jakarta kasus dugaan penganiayaan...       0  ...         0      0\n",
              "2  liputan6 com jakarta menanggapi aksi eks peker...       1  ...         0      0\n",
              "3  liputan6 com medan sebanyak 81 kendaraan 44 74...       0  ...         0      0\n",
              "4  liputan6 com jakarta indonesia melawan thailan...       0  ...         0      0\n",
              "\n",
              "[5 rows x 6 columns]"
            ]
          },
          "metadata": {
            "tags": []
          },
          "execution_count": 104
        }
      ]
    },
    {
      "cell_type": "code",
      "metadata": {
        "colab": {
          "base_uri": "https://localhost:8080/"
        },
        "id": "LqqOVXehBKll",
        "outputId": "c5e93be3-044e-4815-d945-cd7586cf5d3a"
      },
      "source": [
        "from sklearn.model_selection import train_test_split\n",
        "\n",
        "x_train, x_test, y_train, y_test = train_test_split(x, y, test_size=0.2, random_state=42)\n",
        "print(x_train.shape, y_train.shape)\n",
        "print(x_test.shape, y_test.shape)"
      ],
      "execution_count": 105,
      "outputs": [
        {
          "output_type": "stream",
          "text": [
            "(4901, 1000) (4901, 5)\n",
            "(1226, 1000) (1226, 5)\n"
          ],
          "name": "stdout"
        }
      ]
    },
    {
      "cell_type": "code",
      "metadata": {
        "colab": {
          "base_uri": "https://localhost:8080/"
        },
        "id": "lCSbV-yiBPSn",
        "outputId": "0eb3d2fe-b677-4d35-fde5-c5d5301d6fde"
      },
      "source": [
        "import tensorflow as tf\n",
        "model = tf.keras.Sequential([\n",
        "    tf.keras.layers.Embedding(50000, output_dim=16, input_length=1000),\n",
        "    tf.keras.layers.SpatialDropout1D(0.2),\n",
        "    tf.keras.layers.LSTM(100, dropout=0.2, recurrent_dropout=0.2),\n",
        "    tf.keras.layers.Dense(128, activation='relu'),\n",
        "    tf.keras.layers.Dense(64, activation='relu'),\n",
        "    tf.keras.layers.Dense(5, activation='softmax')\n",
        "])\n",
        "model.compile(loss='categorical_crossentropy', optimizer='adam', metrics=['accuracy'])\n",
        "model.summary()"
      ],
      "execution_count": 106,
      "outputs": [
        {
          "output_type": "stream",
          "text": [
            "Model: \"sequential_12\"\n",
            "_________________________________________________________________\n",
            "Layer (type)                 Output Shape              Param #   \n",
            "=================================================================\n",
            "embedding_12 (Embedding)     (None, 1000, 16)          800000    \n",
            "_________________________________________________________________\n",
            "spatial_dropout1d_9 (Spatial (None, 1000, 16)          0         \n",
            "_________________________________________________________________\n",
            "lstm_12 (LSTM)               (None, 100)               46800     \n",
            "_________________________________________________________________\n",
            "dense_34 (Dense)             (None, 128)               12928     \n",
            "_________________________________________________________________\n",
            "dense_35 (Dense)             (None, 64)                8256      \n",
            "_________________________________________________________________\n",
            "dense_36 (Dense)             (None, 5)                 325       \n",
            "=================================================================\n",
            "Total params: 868,309\n",
            "Trainable params: 868,309\n",
            "Non-trainable params: 0\n",
            "_________________________________________________________________\n"
          ],
          "name": "stdout"
        }
      ]
    },
    {
      "cell_type": "code",
      "metadata": {
        "colab": {
          "base_uri": "https://localhost:8080/"
        },
        "id": "y_KlJ6b3BTY5",
        "outputId": "ba6d6649-200d-4dee-9da4-01ec1f04f8d6"
      },
      "source": [
        "from keras.callbacks import EarlyStopping\n",
        "\n",
        "history = model.fit(x_train, y_train, epochs=10, callbacks=[EarlyStopping(monitor='val_accuracy', mode='max', patience=0)], batch_size=64, validation_split=0.2, validation_data=(x_test, y_test), verbose=1)"
      ],
      "execution_count": 107,
      "outputs": [
        {
          "output_type": "stream",
          "text": [
            "Epoch 1/10\n",
            "62/62 [==============================] - 138s 2s/step - loss: 1.4073 - accuracy: 0.3464 - val_loss: 1.2647 - val_accuracy: 0.3293\n",
            "Epoch 2/10\n",
            "62/62 [==============================] - 138s 2s/step - loss: 0.8058 - accuracy: 0.6791 - val_loss: 0.4622 - val_accuracy: 0.8400\n",
            "Epoch 3/10\n",
            "62/62 [==============================] - 139s 2s/step - loss: 0.3302 - accuracy: 0.8939 - val_loss: 0.4135 - val_accuracy: 0.8614\n",
            "Epoch 4/10\n",
            "62/62 [==============================] - 137s 2s/step - loss: 0.1908 - accuracy: 0.9367 - val_loss: 0.4185 - val_accuracy: 0.8644\n",
            "Epoch 5/10\n",
            "62/62 [==============================] - 138s 2s/step - loss: 0.1236 - accuracy: 0.9577 - val_loss: 0.4226 - val_accuracy: 0.8685\n",
            "Epoch 6/10\n",
            "62/62 [==============================] - 137s 2s/step - loss: 0.1128 - accuracy: 0.9584 - val_loss: 0.4929 - val_accuracy: 0.8420\n"
          ],
          "name": "stdout"
        }
      ]
    },
    {
      "cell_type": "code",
      "metadata": {
        "colab": {
          "base_uri": "https://localhost:8080/",
          "height": 294
        },
        "id": "ozQQ5dMdC-BK",
        "outputId": "94a36e21-38b4-4f64-bc77-c332a514f3cf"
      },
      "source": [
        "import matplotlib.pyplot as plt\n",
        "plt.plot(history.history['accuracy'])\n",
        "plt.plot(history.history['val_accuracy'])\n",
        "plt.title('Akurasi Model')\n",
        "plt.ylabel('akurasi')\n",
        "plt.xlabel('epoch')\n",
        "plt.legend(['train','test'], loc = 'upper left')\n",
        "plt.show()"
      ],
      "execution_count": 108,
      "outputs": [
        {
          "output_type": "display_data",
          "data": {
            "image/png": "[encoded data removed]",
            "text/plain": [
              "<Figure size 432x288 with 1 Axes>"
            ]
          },
          "metadata": {
            "tags": [],
            "needs_background": "light"
          }
        }
      ]
    },
    {
      "cell_type": "code",
      "metadata": {
        "colab": {
          "base_uri": "https://localhost:8080/",
          "height": 294
        },
        "id": "paew5VvPUjl8",
        "outputId": "238b0c55-f61c-4463-8810-708a7057693a"
      },
      "source": [
        "import matplotlib.pyplot as plt\n",
        "plt.plot(history.history['loss'])\n",
        "plt.plot(history.history['val_loss'])\n",
        "plt.title('Loss Model')\n",
        "plt.ylabel('loss')\n",
        "plt.xlabel('epoch')\n",
        "plt.legend(['train','test'], loc = 'upper left')\n",
        "plt.show()"
      ],
      "execution_count": 109,
      "outputs": [
        {
          "output_type": "display_data",
          "data": {
            "image/png": "[encoded data removed]",
            "text/plain": [
              "<Figure size 432x288 with 1 Axes>"
            ]
          },
          "metadata": {
            "tags": [],
            "needs_background": "light"
          }
        }
      ]
    }
  ]
}